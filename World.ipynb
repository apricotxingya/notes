{
 "cells": [
  {
   "cell_type": "markdown",
   "id": "1e134d53",
   "metadata": {},
   "source": [
    "联盟训练在AI多样化的探索：\n",
    "https://km.woa.com/group/37641/articles/show/485241?kmref=search&from_page=1&no=10#fn:1\n",
    "\n",
    "谁说行为树AI落后了？甚至可以做到更加拟人！Apex Legends Mobile AI开发纪实\n",
    "https://km.woa.com/group/1556/articles/show/491796?kmref=search&from_page=1&no=9"
   ]
  },
  {
   "cell_type": "code",
   "execution_count": null,
   "id": "7dee55e2",
   "metadata": {},
   "outputs": [],
   "source": []
  }
 ],
 "metadata": {
  "kernelspec": {
   "display_name": "Python 3",
   "language": "python",
   "name": "python3"
  },
  "language_info": {
   "codemirror_mode": {
    "name": "ipython",
    "version": 3
   },
   "file_extension": ".py",
   "mimetype": "text/x-python",
   "name": "python",
   "nbconvert_exporter": "python",
   "pygments_lexer": "ipython3",
   "version": "3.8.8"
  }
 },
 "nbformat": 4,
 "nbformat_minor": 5
}
