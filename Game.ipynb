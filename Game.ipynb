{
 "cells": [
  {
   "cell_type": "markdown",
   "id": "0593c265",
   "metadata": {},
   "source": [
    "- 体验引擎：游戏设计全景探秘 https://read.douban.com/ebook/130452812/\n",
    "- TEAM AI https://iwiki.woa.com/pages/viewpage.action?pageId=887416347"
   ]
  }
 ],
 "metadata": {
  "kernelspec": {
   "display_name": "Python 3",
   "language": "python",
   "name": "python3"
  },
  "language_info": {
   "codemirror_mode": {
    "name": "ipython",
    "version": 3
   },
   "file_extension": ".py",
   "mimetype": "text/x-python",
   "name": "python",
   "nbconvert_exporter": "python",
   "pygments_lexer": "ipython3",
   "version": "3.8.8"
  }
 },
 "nbformat": 4,
 "nbformat_minor": 5
}
